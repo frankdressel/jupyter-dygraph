{
 "cells": [
  {
   "cell_type": "markdown",
   "metadata": {},
   "source": [
    "# Jupyter-dygraph\n",
    "\n",
    "This notebook shows examples of the use of jupyter-dygraph. For more information see: http://dygraphs.com/. **Please note:** The plots in this notebook are replaced with static images to export the notebook to html for demonstration purpose."
   ]
  },
  {
   "cell_type": "code",
   "execution_count": 2,
   "metadata": {},
   "outputs": [],
   "source": [
    "from jupyter_dygraphs import jupyter_dygraphs"
   ]
  },
  {
   "cell_type": "code",
   "execution_count": 3,
   "metadata": {
    "scrolled": true
   },
   "outputs": [
    {
     "name": "stdout",
     "output_type": "stream",
     "text": [
      "Help on function dygraphplot in module jupyter_dygraphs.jupyter_dygraphs:\n",
      "\n",
      "dygraphplot(*dataframeandoptions)\n",
      "    Plots the given dataframe in a jupyter notebook cell.\n",
      "    \n",
      "    Keyword arguments:\n",
      "        dataframe: The input data for the plot. The input data is given as a dict. It contains the\n",
      "        pandas.DataFrame as value for key 'df' and an optional dict as value for the key 'opt'.\n",
      "    \n",
      "        The first column of the data frame contains the x-axis data, while\n",
      "        the remaining columns contain the series data. All columns except the first one needs to\n",
      "        be parseable to numeric.\n",
      "    \n",
      "        The dict contains the dygraph config options.\n",
      "\n"
     ]
    }
   ],
   "source": [
    "help(jupyter_dygraphs.dygraphplot)"
   ]
  },
  {
   "cell_type": "markdown",
   "metadata": {},
   "source": [
    "## Input-Data\n",
    "\n",
    "Jupyter-dygraph uses [pandas](https://pandas.pydata.org/) data frames as input."
   ]
  },
  {
   "cell_type": "code",
   "execution_count": 4,
   "metadata": {},
   "outputs": [],
   "source": [
    "import pandas"
   ]
  },
  {
   "cell_type": "markdown",
   "metadata": {},
   "source": [
    "An example data set is taken from the [dygraphs](http://dygraphs.com/) homepage. It contains two different temperatures over time."
   ]
  },
  {
   "cell_type": "code",
   "execution_count": 5,
   "metadata": {
    "scrolled": true
   },
   "outputs": [
    {
     "data": {
      "text/html": [
       "<div>\n",
       "<style scoped>\n",
       "    .dataframe tbody tr th:only-of-type {\n",
       "        vertical-align: middle;\n",
       "    }\n",
       "\n",
       "    .dataframe tbody tr th {\n",
       "        vertical-align: top;\n",
       "    }\n",
       "\n",
       "    .dataframe thead th {\n",
       "        text-align: right;\n",
       "    }\n",
       "</style>\n",
       "<table border=\"1\" class=\"dataframe\">\n",
       "  <thead>\n",
       "    <tr style=\"text-align: right;\">\n",
       "      <th></th>\n",
       "      <th>Date</th>\n",
       "      <th>High</th>\n",
       "      <th>Low</th>\n",
       "    </tr>\n",
       "  </thead>\n",
       "  <tbody>\n",
       "    <tr>\n",
       "      <th>0</th>\n",
       "      <td>20070101</td>\n",
       "      <td>62</td>\n",
       "      <td>39</td>\n",
       "    </tr>\n",
       "    <tr>\n",
       "      <th>1</th>\n",
       "      <td>20070102</td>\n",
       "      <td>62</td>\n",
       "      <td>44</td>\n",
       "    </tr>\n",
       "    <tr>\n",
       "      <th>2</th>\n",
       "      <td>20070103</td>\n",
       "      <td>62</td>\n",
       "      <td>42</td>\n",
       "    </tr>\n",
       "    <tr>\n",
       "      <th>3</th>\n",
       "      <td>20070104</td>\n",
       "      <td>57</td>\n",
       "      <td>45</td>\n",
       "    </tr>\n",
       "    <tr>\n",
       "      <th>4</th>\n",
       "      <td>20070105</td>\n",
       "      <td>54</td>\n",
       "      <td>44</td>\n",
       "    </tr>\n",
       "  </tbody>\n",
       "</table>\n",
       "</div>"
      ],
      "text/plain": [
       "       Date  High  Low\n",
       "0  20070101    62   39\n",
       "1  20070102    62   44\n",
       "2  20070103    62   42\n",
       "3  20070104    57   45\n",
       "4  20070105    54   44"
      ]
     },
     "execution_count": 5,
     "metadata": {},
     "output_type": "execute_result"
    }
   ],
   "source": [
    "df=pandas.read_csv('temperatures.csv')\n",
    "df.head()"
   ]
  },
  {
   "cell_type": "markdown",
   "metadata": {},
   "source": [
    "## Plotting"
   ]
  },
  {
   "cell_type": "markdown",
   "metadata": {},
   "source": [
    "jupyter-dygraphs takes as input the data frame and an optional dict-object, which contains the configuration options for dygraph according to [its documentation](http://dygraphs.com/). The dataframe and the corresponding options are defined in a dict object. There can be arbitrary number of plots."
   ]
  },
  {
   "cell_type": "code",
   "execution_count": 20,
   "metadata": {},
   "outputs": [],
   "source": [
    "plotme1={'df': df, 'opt': {\n",
    "    'title': 'Test jupyter-dygraph plot I',\n",
    "    'xlabel': 'Date',\n",
    "    'ylabel': 'Temperature',\n",
    "    'legend': 'always'}}\n",
    "plotme2={'df': df, 'opt': {\n",
    "    'title': 'Test jupyter-dygraph plot II',\n",
    "    'xlabel': 'Date',\n",
    "    'ylabel': 'Temperature',\n",
    "    'legend': 'always'}}"
   ]
  },
  {
   "cell_type": "code",
   "execution_count": 18,
   "metadata": {
    "scrolled": false
   },
   "outputs": [],
   "source": [
    "jupyter_dygraphs.dygraphplot(plotme1, plotme2);"
   ]
  },
  {
   "cell_type": "markdown",
   "metadata": {},
   "source": [
    "![title](doubleplot.PNG)"
   ]
  },
  {
   "cell_type": "markdown",
   "metadata": {},
   "source": [
    "## Errors\n",
    "\n",
    "dygraph expects data in numeric format (except the first column). jupyter-dygraphs checks for numeric data types and complains, if a column can not be cast to a numeric value. **Please note:** A string column can still contain data which is parseable as number and thus would not raise an exception."
   ]
  },
  {
   "cell_type": "markdown",
   "metadata": {},
   "source": [
    "This will work:"
   ]
  },
  {
   "cell_type": "code",
   "execution_count": 19,
   "metadata": {
    "scrolled": false
   },
   "outputs": [],
   "source": [
    "df_right=pandas.read_csv('temperatures.csv')\n",
    "df_right['test']=df_right.apply(lambda row: str(row['High']*2), axis=1)\n",
    "jupyter_dygraphs.dygraphplot({'df': df_right, 'opt':{\n",
    "    'title': 'Test jupyter-dygraph plot',\n",
    "    'xlabel': 'Date',\n",
    "    'ylabel': 'Temperature',\n",
    "    'legend': 'always'}});"
   ]
  },
  {
   "cell_type": "markdown",
   "metadata": {},
   "source": [
    "![title](right.PNG)"
   ]
  },
  {
   "cell_type": "markdown",
   "metadata": {},
   "source": [
    "This will not work:"
   ]
  },
  {
   "cell_type": "code",
   "execution_count": 14,
   "metadata": {
    "scrolled": true
   },
   "outputs": [
    {
     "ename": "Exception",
     "evalue": "Dataframe contains non-numeric column: test",
     "output_type": "error",
     "traceback": [
      "\u001b[0;31m---------------------------------------------------------------------------\u001b[0m",
      "\u001b[0;31mValueError\u001b[0m                                Traceback (most recent call last)",
      "\u001b[0;32mpandas/_libs/src/inference.pyx\u001b[0m in \u001b[0;36mpandas._libs.lib.maybe_convert_numeric\u001b[0;34m()\u001b[0m\n",
      "\u001b[0;31mValueError\u001b[0m: Unable to parse string \"{124}\"",
      "\nDuring handling of the above exception, another exception occurred:\n",
      "\u001b[0;31mValueError\u001b[0m                                Traceback (most recent call last)",
      "\u001b[0;32m~/jupyter-dygraphs/jupyter_dygraphs/jupyter_dygraphs.py\u001b[0m in \u001b[0;36mdygraphplot\u001b[0;34m(*dataframeandoptions)\u001b[0m\n\u001b[1;32m     34\u001b[0m             \u001b[0;32mtry\u001b[0m\u001b[0;34m:\u001b[0m\u001b[0;34m\u001b[0m\u001b[0m\n\u001b[0;32m---> 35\u001b[0;31m                 \u001b[0mpandas\u001b[0m\u001b[0;34m.\u001b[0m\u001b[0mto_numeric\u001b[0m\u001b[0;34m(\u001b[0m\u001b[0mdf\u001b[0m\u001b[0;34m[\u001b[0m\u001b[0mcol\u001b[0m\u001b[0;34m]\u001b[0m\u001b[0;34m)\u001b[0m\u001b[0;34m\u001b[0m\u001b[0m\n\u001b[0m\u001b[1;32m     36\u001b[0m             \u001b[0;32mexcept\u001b[0m\u001b[0;34m:\u001b[0m\u001b[0;34m\u001b[0m\u001b[0m\n",
      "\u001b[0;32m~/anaconda3/lib/python3.6/site-packages/pandas/core/tools/numeric.py\u001b[0m in \u001b[0;36mto_numeric\u001b[0;34m(arg, errors, downcast)\u001b[0m\n\u001b[1;32m    132\u001b[0m             values = lib.maybe_convert_numeric(values, set(),\n\u001b[0;32m--> 133\u001b[0;31m                                                coerce_numeric=coerce_numeric)\n\u001b[0m\u001b[1;32m    134\u001b[0m \u001b[0;34m\u001b[0m\u001b[0m\n",
      "\u001b[0;32mpandas/_libs/src/inference.pyx\u001b[0m in \u001b[0;36mpandas._libs.lib.maybe_convert_numeric\u001b[0;34m()\u001b[0m\n",
      "\u001b[0;31mValueError\u001b[0m: Unable to parse string \"{124}\" at position 0",
      "\nDuring handling of the above exception, another exception occurred:\n",
      "\u001b[0;31mException\u001b[0m                                 Traceback (most recent call last)",
      "\u001b[0;32m<ipython-input-14-b66589800920>\u001b[0m in \u001b[0;36m<module>\u001b[0;34m()\u001b[0m\n\u001b[1;32m      5\u001b[0m     \u001b[0;34m'xlabel'\u001b[0m\u001b[0;34m:\u001b[0m \u001b[0;34m'Date'\u001b[0m\u001b[0;34m,\u001b[0m\u001b[0;34m\u001b[0m\u001b[0m\n\u001b[1;32m      6\u001b[0m     \u001b[0;34m'ylabel'\u001b[0m\u001b[0;34m:\u001b[0m \u001b[0;34m'Temperature'\u001b[0m\u001b[0;34m,\u001b[0m\u001b[0;34m\u001b[0m\u001b[0m\n\u001b[0;32m----> 7\u001b[0;31m     'legend': 'always'}})\n\u001b[0m",
      "\u001b[0;32m~/jupyter-dygraphs/jupyter_dygraphs/jupyter_dygraphs.py\u001b[0m in \u001b[0;36mdygraphplot\u001b[0;34m(*dataframeandoptions)\u001b[0m\n\u001b[1;32m     35\u001b[0m                 \u001b[0mpandas\u001b[0m\u001b[0;34m.\u001b[0m\u001b[0mto_numeric\u001b[0m\u001b[0;34m(\u001b[0m\u001b[0mdf\u001b[0m\u001b[0;34m[\u001b[0m\u001b[0mcol\u001b[0m\u001b[0;34m]\u001b[0m\u001b[0;34m)\u001b[0m\u001b[0;34m\u001b[0m\u001b[0m\n\u001b[1;32m     36\u001b[0m             \u001b[0;32mexcept\u001b[0m\u001b[0;34m:\u001b[0m\u001b[0;34m\u001b[0m\u001b[0m\n\u001b[0;32m---> 37\u001b[0;31m                 \u001b[0;32mraise\u001b[0m \u001b[0mException\u001b[0m\u001b[0;34m(\u001b[0m\u001b[0;34m\"Dataframe contains non-numeric column: {}\"\u001b[0m\u001b[0;34m.\u001b[0m\u001b[0mformat\u001b[0m\u001b[0;34m(\u001b[0m\u001b[0mcol\u001b[0m\u001b[0;34m)\u001b[0m\u001b[0;34m)\u001b[0m\u001b[0;34m\u001b[0m\u001b[0m\n\u001b[0m\u001b[1;32m     38\u001b[0m \u001b[0;34m\u001b[0m\u001b[0m\n\u001b[1;32m     39\u001b[0m         html = html+\"\"\"\n",
      "\u001b[0;31mException\u001b[0m: Dataframe contains non-numeric column: test"
     ]
    }
   ],
   "source": [
    "df_wrong=pandas.read_csv('temperatures.csv')\n",
    "df_wrong['test']=df_wrong.apply(lambda row: \"{\"+str(row['High']*2)+\"}\", axis=1)\n",
    "plot=jupyter_dygraphs.dygraphplot({'df': df_wrong, 'opt':{\n",
    "    'title': 'Test jupyter-dygraph plot',\n",
    "    'xlabel': 'Date',\n",
    "    'ylabel': 'Temperature',\n",
    "    'legend': 'always'}})"
   ]
  }
 ],
 "metadata": {
  "kernelspec": {
   "display_name": "Python 3",
   "language": "python",
   "name": "python3"
  },
  "language_info": {
   "codemirror_mode": {
    "name": "ipython",
    "version": 3
   },
   "file_extension": ".py",
   "mimetype": "text/x-python",
   "name": "python",
   "nbconvert_exporter": "python",
   "pygments_lexer": "ipython3",
   "version": "3.6.4"
  }
 },
 "nbformat": 4,
 "nbformat_minor": 2
}
