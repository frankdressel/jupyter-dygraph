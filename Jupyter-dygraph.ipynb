{
 "cells": [
  {
   "cell_type": "markdown",
   "metadata": {},
   "source": [
    "# Jupyter-dygraph"
   ]
  },
  {
   "cell_type": "code",
   "execution_count": 1,
   "metadata": {},
   "outputs": [],
   "source": [
    "import jupyter_dygraphs\n",
    "import pandas\n",
    "\n",
    "from IPython.display import HTML, Javascript"
   ]
  },
  {
   "cell_type": "code",
   "execution_count": 4,
   "metadata": {},
   "outputs": [
    {
     "data": {
      "text/html": [
       "<div>\n",
       "<style scoped>\n",
       "    .dataframe tbody tr th:only-of-type {\n",
       "        vertical-align: middle;\n",
       "    }\n",
       "\n",
       "    .dataframe tbody tr th {\n",
       "        vertical-align: top;\n",
       "    }\n",
       "\n",
       "    .dataframe thead th {\n",
       "        text-align: right;\n",
       "    }\n",
       "</style>\n",
       "<table border=\"1\" class=\"dataframe\">\n",
       "  <thead>\n",
       "    <tr style=\"text-align: right;\">\n",
       "      <th></th>\n",
       "      <th>Date</th>\n",
       "      <th>High</th>\n",
       "      <th>Low</th>\n",
       "    </tr>\n",
       "  </thead>\n",
       "  <tbody>\n",
       "    <tr>\n",
       "      <th>0</th>\n",
       "      <td>20070101</td>\n",
       "      <td>62</td>\n",
       "      <td>39</td>\n",
       "    </tr>\n",
       "    <tr>\n",
       "      <th>1</th>\n",
       "      <td>20070102</td>\n",
       "      <td>62</td>\n",
       "      <td>44</td>\n",
       "    </tr>\n",
       "    <tr>\n",
       "      <th>2</th>\n",
       "      <td>20070103</td>\n",
       "      <td>62</td>\n",
       "      <td>42</td>\n",
       "    </tr>\n",
       "    <tr>\n",
       "      <th>3</th>\n",
       "      <td>20070104</td>\n",
       "      <td>57</td>\n",
       "      <td>45</td>\n",
       "    </tr>\n",
       "    <tr>\n",
       "      <th>4</th>\n",
       "      <td>20070105</td>\n",
       "      <td>54</td>\n",
       "      <td>44</td>\n",
       "    </tr>\n",
       "  </tbody>\n",
       "</table>\n",
       "</div>"
      ],
      "text/plain": [
       "       Date  High  Low\n",
       "0  20070101    62   39\n",
       "1  20070102    62   44\n",
       "2  20070103    62   42\n",
       "3  20070104    57   45\n",
       "4  20070105    54   44"
      ]
     },
     "execution_count": 4,
     "metadata": {},
     "output_type": "execute_result"
    }
   ],
   "source": [
    "df=pandas.read_csv('temperatures.csv')\n",
    "df.head()"
   ]
  },
  {
   "cell_type": "code",
   "execution_count": 3,
   "metadata": {},
   "outputs": [
    {
     "name": "stdout",
     "output_type": "stream",
     "text": [
      "\n",
      "    <link rel=\"stylesheet\" href=\"//cdnjs.cloudflare.com/ajax/libs/dygraph/2.1.0/dygraph.min.css\">\n",
      "    <div id=\"91abd9ca-adb4-4c83-a5de-814f3b047862\"></div>\n",
      "    <script type=\"text/javascript\">\n",
      "        requirejs.config({\n",
      "            paths: {\n",
      "                \"Dygraph\": [\"//cdnjs.cloudflare.com/ajax/libs/dygraph/2.1.0/dygraph.min\"]\n",
      "            }\n",
      "        });\n",
      "\n",
      "        require(['Dygraph'], function(Dygraph){\n",
      "            new Dygraph(document.getElementById(\"91abd9ca-adb4-4c83-a5de-814f3b047862\"), \"a,b\\n\"+\"1,3\\n\"+\"2,4\\n\"+\"3,5\\n\"+\"4,6\\n\"+\"\", {title: \"\", xlabel: \"\", ylabel: \"\", legend: \"always\"})\n",
      "        })\n",
      "    </script>\n",
      "    \n"
     ]
    },
    {
     "data": {
      "text/html": [
       "\n",
       "    <link rel=\"stylesheet\" href=\"//cdnjs.cloudflare.com/ajax/libs/dygraph/2.1.0/dygraph.min.css\">\n",
       "    <div id=\"91abd9ca-adb4-4c83-a5de-814f3b047862\"></div>\n",
       "    <script type=\"text/javascript\">\n",
       "        requirejs.config({\n",
       "            paths: {\n",
       "                \"Dygraph\": [\"//cdnjs.cloudflare.com/ajax/libs/dygraph/2.1.0/dygraph.min\"]\n",
       "            }\n",
       "        });\n",
       "\n",
       "        require(['Dygraph'], function(Dygraph){\n",
       "            new Dygraph(document.getElementById(\"91abd9ca-adb4-4c83-a5de-814f3b047862\"), \"a,b\\n\"+\"1,3\\n\"+\"2,4\\n\"+\"3,5\\n\"+\"4,6\\n\"+\"\", {title: \"\", xlabel: \"\", ylabel: \"\", legend: \"always\"})\n",
       "        })\n",
       "    </script>\n",
       "    "
      ],
      "text/plain": [
       "<IPython.core.display.HTML object>"
      ]
     },
     "execution_count": 3,
     "metadata": {},
     "output_type": "execute_result"
    }
   ],
   "source": [
    "plot=jupyter_dygraphs.dygraphplot(df)\n",
    "plot"
   ]
  }
 ],
 "metadata": {
  "kernelspec": {
   "display_name": "Python 3",
   "language": "python",
   "name": "python3"
  },
  "language_info": {
   "codemirror_mode": {
    "name": "ipython",
    "version": 3
   },
   "file_extension": ".py",
   "mimetype": "text/x-python",
   "name": "python",
   "nbconvert_exporter": "python",
   "pygments_lexer": "ipython3",
   "version": "3.6.4"
  }
 },
 "nbformat": 4,
 "nbformat_minor": 2
}
